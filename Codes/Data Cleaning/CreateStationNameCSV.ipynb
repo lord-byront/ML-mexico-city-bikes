{
 "cells": [
  {
   "cell_type": "code",
   "execution_count": 1,
   "id": "8ecea675-eb2f-48b2-821b-50129f75e974",
   "metadata": {
    "id": "8ecea675-eb2f-48b2-821b-50129f75e974"
   },
   "outputs": [],
   "source": [
    "import pandas as pd"
   ]
  },
  {
   "cell_type": "code",
   "execution_count": 2,
   "id": "6370f47a-a1ad-49d8-9536-36a6ee2e4f66",
   "metadata": {
    "id": "6370f47a-a1ad-49d8-9536-36a6ee2e4f66"
   },
   "outputs": [],
   "source": [
    "# Cargar el CSV original\n",
    "df = pd.read_csv('ecobici_merged.csv')"
   ]
  },
  {
   "cell_type": "code",
   "execution_count": 3,
   "id": "ea57e672-4bb3-4cd8-ba45-25033f17a58c",
   "metadata": {
    "id": "ea57e672-4bb3-4cd8-ba45-25033f17a58c"
   },
   "outputs": [],
   "source": [
    "# Crear la nueva columna 'nombre_estacion' uniendo 'calle_prin' y 'calle_secu' con un '_'\n",
    "df['nombre_estacion'] = df['calle_prin'] + '_' + df['calle_secu']"
   ]
  },
  {
   "cell_type": "code",
   "execution_count": 4,
   "id": "fc930e63-d006-4361-979f-ee7f49738278",
   "metadata": {
    "id": "fc930e63-d006-4361-979f-ee7f49738278",
    "outputId": "af94e401-7e80-470c-d7b9-fc9932cbfc57"
   },
   "outputs": [],
   "source": [
    "# Eliminar las columnas 'Prefix' y 'estatus'\n",
    "df = df.drop(columns=['Prefix', 'estatus'])"
   ]
  },
  {
   "cell_type": "code",
   "execution_count": 7,
   "id": "0298c3e9-6aa8-4214-838a-3813d22a6ef2",
   "metadata": {
    "id": "0298c3e9-6aa8-4214-838a-3813d22a6ef2",
    "outputId": "6c33acff-9b93-4bf7-f075-ec838b768c6a"
   },
   "outputs": [
    {
     "data": {
      "text/html": [
       "<div>\n",
       "<style scoped>\n",
       "    .dataframe tbody tr th:only-of-type {\n",
       "        vertical-align: middle;\n",
       "    }\n",
       "\n",
       "    .dataframe tbody tr th {\n",
       "        vertical-align: top;\n",
       "    }\n",
       "\n",
       "    .dataframe thead th {\n",
       "        text-align: right;\n",
       "    }\n",
       "</style>\n",
       "<table border=\"1\" class=\"dataframe\">\n",
       "  <thead>\n",
       "    <tr style=\"text-align: right;\">\n",
       "      <th></th>\n",
       "      <th>num_cicloe</th>\n",
       "      <th>nombre_estacion</th>\n",
       "      <th>calle_prin</th>\n",
       "      <th>calle_secu</th>\n",
       "      <th>colonia</th>\n",
       "      <th>alcaldia</th>\n",
       "      <th>latitud</th>\n",
       "      <th>longitud</th>\n",
       "      <th>sitio_de_e</th>\n",
       "    </tr>\n",
       "  </thead>\n",
       "  <tbody>\n",
       "    <tr>\n",
       "      <th>0</th>\n",
       "      <td>1</td>\n",
       "      <td>Río Sena_Río Balsas</td>\n",
       "      <td>Río Sena</td>\n",
       "      <td>Río Balsas</td>\n",
       "      <td>Cuauhtemoc</td>\n",
       "      <td>Cuauhtemoc</td>\n",
       "      <td>19.433590</td>\n",
       "      <td>-99.167819</td>\n",
       "      <td>Arroyo</td>\n",
       "    </tr>\n",
       "    <tr>\n",
       "      <th>1</th>\n",
       "      <td>2</td>\n",
       "      <td>Río Guadalquivir_Río Nazas</td>\n",
       "      <td>Río Guadalquivir</td>\n",
       "      <td>Río Nazas</td>\n",
       "      <td>Cuauhtemoc</td>\n",
       "      <td>Cuauhtemoc</td>\n",
       "      <td>19.430623</td>\n",
       "      <td>-99.171231</td>\n",
       "      <td>Arroyo</td>\n",
       "    </tr>\n",
       "    <tr>\n",
       "      <th>2</th>\n",
       "      <td>3</td>\n",
       "      <td>Reforma_Insurgentes</td>\n",
       "      <td>Reforma</td>\n",
       "      <td>Insurgentes</td>\n",
       "      <td>Tabacalera</td>\n",
       "      <td>Cuauhtemoc</td>\n",
       "      <td>19.431630</td>\n",
       "      <td>-99.158547</td>\n",
       "      <td>Banqueta</td>\n",
       "    </tr>\n",
       "    <tr>\n",
       "      <th>3</th>\n",
       "      <td>4</td>\n",
       "      <td>Río Nilo_Río Panuco</td>\n",
       "      <td>Río Nilo</td>\n",
       "      <td>Río Panuco</td>\n",
       "      <td>Cuauhtemoc</td>\n",
       "      <td>Cuauhtemoc</td>\n",
       "      <td>19.428491</td>\n",
       "      <td>-99.171693</td>\n",
       "      <td>Arroyo</td>\n",
       "    </tr>\n",
       "    <tr>\n",
       "      <th>4</th>\n",
       "      <td>5</td>\n",
       "      <td>Río Pánuco _Río Tiber</td>\n",
       "      <td>Río Pánuco</td>\n",
       "      <td>Río Tiber</td>\n",
       "      <td>Cuauhtemoc</td>\n",
       "      <td>Cuauhtemoc</td>\n",
       "      <td>19.429804</td>\n",
       "      <td>-99.169451</td>\n",
       "      <td>Arroyo</td>\n",
       "    </tr>\n",
       "  </tbody>\n",
       "</table>\n",
       "</div>"
      ],
      "text/plain": [
       "  num_cicloe             nombre_estacion        calle_prin   calle_secu  \\\n",
       "0          1         Río Sena_Río Balsas          Río Sena   Río Balsas   \n",
       "1          2  Río Guadalquivir_Río Nazas  Río Guadalquivir    Río Nazas   \n",
       "2          3         Reforma_Insurgentes           Reforma  Insurgentes   \n",
       "3          4         Río Nilo_Río Panuco          Río Nilo   Río Panuco   \n",
       "4          5       Río Pánuco _Río Tiber       Río Pánuco     Río Tiber   \n",
       "\n",
       "      colonia    alcaldia    latitud   longitud sitio_de_e  \n",
       "0  Cuauhtemoc  Cuauhtemoc  19.433590 -99.167819     Arroyo  \n",
       "1  Cuauhtemoc  Cuauhtemoc  19.430623 -99.171231     Arroyo  \n",
       "2  Tabacalera  Cuauhtemoc  19.431630 -99.158547   Banqueta  \n",
       "3  Cuauhtemoc  Cuauhtemoc  19.428491 -99.171693     Arroyo  \n",
       "4  Cuauhtemoc  Cuauhtemoc  19.429804 -99.169451     Arroyo  "
      ]
     },
     "execution_count": 7,
     "metadata": {},
     "output_type": "execute_result"
    }
   ],
   "source": [
    "# Reordenar las columnas para colocar 'nombre_estacion' después de 'num_cicloe'\n",
    "cols = df.columns.tolist()\n",
    "cols.insert(cols.index('num_cicloe') + 1, cols.pop(cols.index('nombre_estacion')))\n",
    "df = df[cols]\n",
    "df.head()"
   ]
  },
  {
   "cell_type": "code",
   "execution_count": 6,
   "id": "b835bc74-c2a7-4ca9-96e3-7b42a9a4e1a6",
   "metadata": {
    "id": "b835bc74-c2a7-4ca9-96e3-7b42a9a4e1a6",
    "outputId": "5a3b2e9f-bee1-4177-9506-3957bd1e0732"
   },
   "outputs": [],
   "source": [
    "# Guardar el nuevo DataFrame en un nuevo archivo CSV\n",
    "df.to_csv('ecobici_edited.csv', index=False)"
   ]
  },
  {
   "cell_type": "code",
   "execution_count": null,
   "id": "7e533546-f41d-4bfc-9fe5-53f10e63381e",
   "metadata": {
    "id": "7e533546-f41d-4bfc-9fe5-53f10e63381e"
   },
   "outputs": [],
   "source": []
  }
 ],
 "metadata": {
  "colab": {
   "provenance": []
  },
  "kernelspec": {
   "display_name": "Python 3 (ipykernel)",
   "language": "python",
   "name": "python3"
  },
  "language_info": {
   "codemirror_mode": {
    "name": "ipython",
    "version": 3
   },
   "file_extension": ".py",
   "mimetype": "text/x-python",
   "name": "python",
   "nbconvert_exporter": "python",
   "pygments_lexer": "ipython3",
   "version": "3.10.15"
  }
 },
 "nbformat": 4,
 "nbformat_minor": 5
}
