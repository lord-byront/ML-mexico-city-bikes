{
 "cells": [
  {
   "cell_type": "code",
   "execution_count": 1,
   "id": "8ecea675-eb2f-48b2-821b-50129f75e974",
   "metadata": {
    "id": "8ecea675-eb2f-48b2-821b-50129f75e974"
   },
   "outputs": [],
   "source": [
    "import os  # Import the os module to interact with the file system\n",
    "import pandas as pd  # Import pandas for data manipulation\n",
    "import pandas as pd\n",
    "os.environ[\"PYTHONUNBUFFERED\"] = \"1\""
   ]
  },
  {
   "cell_type": "code",
   "execution_count": 2,
   "id": "6370f47a-a1ad-49d8-9536-36a6ee2e4f66",
   "metadata": {
    "id": "6370f47a-a1ad-49d8-9536-36a6ee2e4f66"
   },
   "outputs": [],
   "source": [
    "# Define the folder containing the CSV files\n",
    "folder_path = \"resources\"\n",
    "\n",
    "# Get a list of all CSV files in the folder\n",
    "csv_files = [f for f in os.listdir(folder_path) if f.endswith(\".csv\")]\n"
   ]
  },
  {
   "cell_type": "code",
   "execution_count": 3,
   "id": "ea57e672-4bb3-4cd8-ba45-25033f17a58c",
   "metadata": {
    "id": "ea57e672-4bb3-4cd8-ba45-25033f17a58c"
   },
   "outputs": [],
   "source": [
    "# Expected number of columns\n",
    "expected_columns = 9\n",
    "incorrect_files = []\n"
   ]
  },
  {
   "cell_type": "code",
   "execution_count": 4,
   "id": "fc930e63-d006-4361-979f-ee7f49738278",
   "metadata": {
    "id": "fc930e63-d006-4361-979f-ee7f49738278",
    "outputId": "af94e401-7e80-470c-d7b9-fc9932cbfc57"
   },
   "outputs": [
    {
     "name": "stdout",
     "output_type": "stream",
     "text": [
      "File: 2025-01 (1).csv | Number of columns: 9\n",
      "File: 2024-11.csv | Number of columns: 9\n",
      "File: 2024-10.csv | Number of columns: 9\n",
      "File: 2024-12.csv | Number of columns: 9\n",
      "File: 2024-06.csv | Number of columns: 9\n",
      "File: datos_abiertos_2024_04.csv | Number of columns: 9\n",
      "File: datos_abiertos_2024_07.csv | Number of columns: 9\n",
      "File: 2024-09.csv | Number of columns: 9\n",
      "File: 2024-08.csv | Number of columns: 9\n",
      "File: 2024-05-1.csv | Number of columns: 9\n",
      "File: 2025-02.csv | Number of columns: 9\n",
      "File: datos_abiertos_2024_03-1-1.csv | Number of columns: 9\n",
      "\n",
      "All files have the correct number of columns.\n"
     ]
    }
   ],
   "source": [
    "for csv_file in csv_files:\n",
    "    file_path = os.path.join(folder_path, csv_file)  # Get the full path of the file\n",
    "    df = pd.read_csv(file_path,low_memory=False)  # Read the CSV file into a dataframe\n",
    "\n",
    "    # Count the number of columns in the current CSV file\n",
    "    num_columns = len(df.columns)\n",
    "\n",
    "    # Print the number of columns and check if it differs from the expected number\n",
    "    print(f\"File: {csv_file} | Number of columns: {num_columns}\")\n",
    "    if num_columns > expected_columns:\n",
    "        df = df.iloc[:, :expected_columns]  # Keep only the first 9 columns\n",
    "        df.to_csv(file_path, index=False)  # Save the modified file\n",
    "        print(f\"Fixed: Removed extra column from {csv_file}\")\n",
    "\n",
    "# Print summary of files with incorrect column counts\n",
    "if incorrect_files:\n",
    "    print(\"\\nSummary: The following files had an incorrect number of columns and were modified if necessary:\")\n",
    "    for file in incorrect_files:\n",
    "        print(f\"- {file}\")\n",
    "else:\n",
    "    print(\"\\nAll files have the correct number of columns.\")"
   ]
  },
  {
   "cell_type": "code",
   "execution_count": 5,
   "id": "0298c3e9-6aa8-4214-838a-3813d22a6ef2",
   "metadata": {
    "id": "0298c3e9-6aa8-4214-838a-3813d22a6ef2",
    "outputId": "6c33acff-9b93-4bf7-f075-ec838b768c6a"
   },
   "outputs": [
    {
     "name": "stdout",
     "output_type": "stream",
     "text": [
      "\n",
      "Merged file created: resources/merged_file.csv\n"
     ]
    }
   ],
   "source": [
    "# Merge all CSV files, ignoring column headers\n",
    "merged_df = pd.concat(\n",
    "    [pd.read_csv(os.path.join(folder_path, f), header=None, skiprows=1, low_memory=False) for f in csv_files],\n",
    "    ignore_index=True\n",
    ")\n",
    "\n",
    "# Define new column titles\n",
    "new_column_names = [\n",
    "    \"Genero_Usuario\", \"Edad_Usuario\", \"Bici\", \"Ciclo_Estacion_Retiro\",\n",
    "    \"Fecha_Retiro\", \"Hora_Retiro\", \"Ciclo_Estacion_Arribo\", \"Fecha_Arribo\", \"Hora_Arribo\"\n",
    "]\n",
    "\n",
    "# Assign new column names\n",
    "merged_df.columns = new_column_names\n",
    "\n",
    "# Save the merged DataFrame as a new CSV file\n",
    "merged_file_path = os.path.join(folder_path, \"merged_file.csv\")\n",
    "merged_df.to_csv(merged_file_path, index=False)\n",
    "\n",
    "print(f\"\\nMerged file created: {merged_file_path}\")"
   ]
  },
  {
   "cell_type": "code",
   "execution_count": 6,
   "id": "b835bc74-c2a7-4ca9-96e3-7b42a9a4e1a6",
   "metadata": {
    "id": "b835bc74-c2a7-4ca9-96e3-7b42a9a4e1a6",
    "outputId": "5a3b2e9f-bee1-4177-9506-3957bd1e0732"
   },
   "outputs": [
    {
     "name": "stdout",
     "output_type": "stream",
     "text": [
      "\n",
      "Preview of the merged file:\n"
     ]
    },
    {
     "data": {
      "text/html": [
       "<div>\n",
       "<style scoped>\n",
       "    .dataframe tbody tr th:only-of-type {\n",
       "        vertical-align: middle;\n",
       "    }\n",
       "\n",
       "    .dataframe tbody tr th {\n",
       "        vertical-align: top;\n",
       "    }\n",
       "\n",
       "    .dataframe thead th {\n",
       "        text-align: right;\n",
       "    }\n",
       "</style>\n",
       "<table border=\"1\" class=\"dataframe\">\n",
       "  <thead>\n",
       "    <tr style=\"text-align: right;\">\n",
       "      <th></th>\n",
       "      <th>Genero_Usuario</th>\n",
       "      <th>Edad_Usuario</th>\n",
       "      <th>Bici</th>\n",
       "      <th>Ciclo_Estacion_Retiro</th>\n",
       "      <th>Fecha_Retiro</th>\n",
       "      <th>Hora_Retiro</th>\n",
       "      <th>Ciclo_Estacion_Arribo</th>\n",
       "      <th>Fecha_Arribo</th>\n",
       "      <th>Hora_Arribo</th>\n",
       "    </tr>\n",
       "  </thead>\n",
       "  <tbody>\n",
       "    <tr>\n",
       "      <th>0</th>\n",
       "      <td>M</td>\n",
       "      <td>26.0</td>\n",
       "      <td>5180930</td>\n",
       "      <td>568</td>\n",
       "      <td>31/12/2024</td>\n",
       "      <td>23:57:02</td>\n",
       "      <td>572</td>\n",
       "      <td>01/01/2025</td>\n",
       "      <td>00:00:03</td>\n",
       "    </tr>\n",
       "    <tr>\n",
       "      <th>1</th>\n",
       "      <td>F</td>\n",
       "      <td>54.0</td>\n",
       "      <td>3653953</td>\n",
       "      <td>283</td>\n",
       "      <td>31/12/2024</td>\n",
       "      <td>23:51:40</td>\n",
       "      <td>596</td>\n",
       "      <td>01/01/2025</td>\n",
       "      <td>00:00:41</td>\n",
       "    </tr>\n",
       "    <tr>\n",
       "      <th>2</th>\n",
       "      <td>M</td>\n",
       "      <td>38.0</td>\n",
       "      <td>7511322</td>\n",
       "      <td>034</td>\n",
       "      <td>31/12/2024</td>\n",
       "      <td>23:48:36</td>\n",
       "      <td>064</td>\n",
       "      <td>01/01/2025</td>\n",
       "      <td>00:00:59</td>\n",
       "    </tr>\n",
       "    <tr>\n",
       "      <th>3</th>\n",
       "      <td>M</td>\n",
       "      <td>41.0</td>\n",
       "      <td>3804572</td>\n",
       "      <td>258</td>\n",
       "      <td>31/12/2024</td>\n",
       "      <td>23:54:11</td>\n",
       "      <td>023</td>\n",
       "      <td>01/01/2025</td>\n",
       "      <td>00:01:08</td>\n",
       "    </tr>\n",
       "    <tr>\n",
       "      <th>4</th>\n",
       "      <td>M</td>\n",
       "      <td>35.0</td>\n",
       "      <td>3848405</td>\n",
       "      <td>043</td>\n",
       "      <td>31/12/2024</td>\n",
       "      <td>23:35:28</td>\n",
       "      <td>126</td>\n",
       "      <td>01/01/2025</td>\n",
       "      <td>00:01:17</td>\n",
       "    </tr>\n",
       "  </tbody>\n",
       "</table>\n",
       "</div>"
      ],
      "text/plain": [
       "  Genero_Usuario  Edad_Usuario     Bici Ciclo_Estacion_Retiro Fecha_Retiro  \\\n",
       "0              M          26.0  5180930                   568   31/12/2024   \n",
       "1              F          54.0  3653953                   283   31/12/2024   \n",
       "2              M          38.0  7511322                   034   31/12/2024   \n",
       "3              M          41.0  3804572                   258   31/12/2024   \n",
       "4              M          35.0  3848405                   043   31/12/2024   \n",
       "\n",
       "  Hora_Retiro Ciclo_Estacion_Arribo Fecha_Arribo Hora_Arribo  \n",
       "0    23:57:02                   572   01/01/2025    00:00:03  \n",
       "1    23:51:40                   596   01/01/2025    00:00:41  \n",
       "2    23:48:36                   064   01/01/2025    00:00:59  \n",
       "3    23:54:11                   023   01/01/2025    00:01:08  \n",
       "4    23:35:28                   126   01/01/2025    00:01:17  "
      ]
     },
     "execution_count": 6,
     "metadata": {},
     "output_type": "execute_result"
    }
   ],
   "source": [
    "# Open and display the first few rows of the merged file\n",
    "print(\"\\nPreview of the merged file:\")\n",
    "merged_df.head()"
   ]
  },
  {
   "cell_type": "code",
   "execution_count": null,
   "id": "7e533546-f41d-4bfc-9fe5-53f10e63381e",
   "metadata": {
    "id": "7e533546-f41d-4bfc-9fe5-53f10e63381e"
   },
   "outputs": [],
   "source": []
  }
 ],
 "metadata": {
  "colab": {
   "provenance": []
  },
  "kernelspec": {
   "display_name": "Python 3 (ipykernel)",
   "language": "python",
   "name": "python3"
  },
  "language_info": {
   "codemirror_mode": {
    "name": "ipython",
    "version": 3
   },
   "file_extension": ".py",
   "mimetype": "text/x-python",
   "name": "python",
   "nbconvert_exporter": "python",
   "pygments_lexer": "ipython3",
   "version": "3.10.15"
  }
 },
 "nbformat": 4,
 "nbformat_minor": 5
}
